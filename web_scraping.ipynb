{
 "cells": [
  {
   "cell_type": "code",
   "execution_count": 40,
   "outputs": [],
   "source": [
    "from selenium import webdriver\n",
    "import pandas as pd\n",
    "import time\n",
    "from selenium.webdriver.common.by import By\n",
    "from selenium.webdriver.support.ui import WebDriverWait\n",
    "from selenium.webdriver.support import expected_conditions as EC\n",
    "from selenium.webdriver.common.action_chains import ActionChains\n",
    "from selenium.webdriver.chrome.service import Service\n"
   ],
   "metadata": {
    "collapsed": false,
    "ExecuteTime": {
     "start_time": "2023-07-30T19:23:49.151409Z",
     "end_time": "2023-07-30T19:23:49.155409Z"
    }
   }
  },
  {
   "cell_type": "code",
   "execution_count": null,
   "outputs": [],
   "source": [
    "def listToString(list1):\n",
    "    str1 = \" \"\n",
    "    return str1.join(list1)\n",
    "\n",
    "chrome_driver_path = r\"C:\\Users\\YSK\\Documents\\Drivers\\chromedriver.exe\"\n",
    "service = Service(chrome_driver_path)\n",
    "driver = webdriver.Chrome(service=service)\n",
    "driver.maximize_window()\n",
    "\n",
    "j= 2\n",
    "house_list = []\n",
    "while j<=18:\n",
    "    driver.get(f\"https://www.emlakjet.com/satilik-konut/kayseri-kocasinan/{j}/\")\n",
    "    i= 1\n",
    "    j+= 1\n",
    "\n",
    "    wait = WebDriverWait(driver, 30)\n",
    "    while i<=29:\n",
    "        if i in (3, 8, 9, 11, 14):\n",
    "            i+=1\n",
    "            continue\n",
    "        details_dict = {}\n",
    "        xpath = f'//*[@id=\"listing-search-wrapper\"]/div[{str(i)}]'\n",
    "        house_card = wait.until(EC.presence_of_element_located((By.XPATH, xpath)))\n",
    "        actions = ActionChains(driver)\n",
    "        actions.move_to_element(house_card).click().perform()\n",
    "\n",
    "        try:\n",
    "            house_details = wait.until(EC.presence_of_all_elements_located((By.CLASS_NAME, '_35T4WV')))\n",
    "            actions = ActionChains(driver)\n",
    "            actions.move_to_element(house_details[0]).click().perform()\n",
    "        except:\n",
    "            i+=1\n",
    "            driver.execute_script(\"window.history.go(-1)\")\n",
    "            time.sleep(3)\n",
    "            continue\n",
    "\n",
    "        details = []\n",
    "        for detail in house_details:\n",
    "            details.append(detail.text)\n",
    "\n",
    "        for item in details:\n",
    "            if '\\n' in item:\n",
    "                key, value = item.split('\\n', 1)\n",
    "                details_dict[key] = value\n",
    "\n",
    "        house_price = driver.find_element(By.CLASS_NAME, 'R-RKDB')\n",
    "        details_dict['House Price'] = house_price.text\n",
    "\n",
    "        house_location = driver.find_element(By.XPATH, '//div[@class=\"_3VQ1JB\"]/p')\n",
    "        details_dict['House Location'] = house_location.text\n",
    "\n",
    "        house_list.append(details_dict)\n",
    "        print(i,j)\n",
    "        i = i+1\n",
    "        driver.execute_script(\"window.history.go(-1)\")\n",
    "        time.sleep(3)\n",
    "\n",
    "driver.quit()"
   ],
   "metadata": {
    "collapsed": false,
    "ExecuteTime": {
     "start_time": "2023-07-30T19:40:56.855308Z",
     "end_time": "2023-07-30T20:15:44.496462Z"
    },
    "pycharm": {
     "is_executing": true
    }
   }
  },
  {
   "cell_type": "code",
   "execution_count": 47,
   "outputs": [
    {
     "name": "stdout",
     "output_type": "stream",
     "text": [
      "CSV file created.\n"
     ]
    }
   ],
   "source": [
    "df = pd.DataFrame(house_list)\n",
    "df.to_csv('kocasinan_houses_data.csv')\n",
    "print(\"CSV file created.\")"
   ],
   "metadata": {
    "collapsed": false,
    "ExecuteTime": {
     "start_time": "2023-07-30T20:15:45.944525Z",
     "end_time": "2023-07-30T20:15:45.966523Z"
    }
   }
  },
  {
   "cell_type": "code",
   "execution_count": null,
   "outputs": [],
   "source": [],
   "metadata": {
    "collapsed": false
   }
  }
 ],
 "metadata": {
  "kernelspec": {
   "display_name": "Python 3",
   "language": "python",
   "name": "python3"
  },
  "language_info": {
   "codemirror_mode": {
    "name": "ipython",
    "version": 2
   },
   "file_extension": ".py",
   "mimetype": "text/x-python",
   "name": "python",
   "nbconvert_exporter": "python",
   "pygments_lexer": "ipython2",
   "version": "2.7.6"
  }
 },
 "nbformat": 4,
 "nbformat_minor": 0
}
